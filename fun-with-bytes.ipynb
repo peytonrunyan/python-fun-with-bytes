{
 "cells": [
  {
   "cell_type": "markdown",
   "metadata": {},
   "source": [
    "# Bytes with python"
   ]
  },
  {
   "cell_type": "markdown",
   "metadata": {},
   "source": [
    "Bytes are writen as strings with a \"b\" in front of them.\n",
    "\n",
    "They can be either be written as hex literals or the associated ASCII values\n",
    "\n",
    "See here: https://www.rapidtables.com/convert/number/hex-to-ascii.html"
   ]
  },
  {
   "cell_type": "code",
   "execution_count": 13,
   "metadata": {},
   "outputs": [
    {
     "name": "stdout",
     "output_type": "stream",
     "text": [
      "True\n",
      "b'10'\n",
      "b'10'\n"
     ]
    }
   ],
   "source": [
    "hex_literal = b\"\\x31\\x30\"\n",
    "other_byte_literal = b\"10\"\n",
    "\n",
    "print(hex_literal == other_byte_literal)\n",
    "print(hex_literal)\n",
    "print(other_byte_literal)"
   ]
  },
  {
   "cell_type": "markdown",
   "metadata": {},
   "source": [
    "## Numbers to and from bytes\n",
    "\n",
    "We can use `int.to_bytes()` and `int.from_bytes()` to convert bytes to integers.\n",
    "\n",
    "Numbers aren't interpreted as their ASCII values, and are instead interpreted as\n",
    "their actual decimal values when using this interface.\n",
    "\n",
    "You need specify the endienness of the bytes. This says whether we read the bytes/from left to right or right to left. Big endian is largest byte on the left, little endien is largest byte on the right.\n",
    "\n",
    "Little endian can be weird, so after you think you get it, give it another look and try a few examples.\n",
    "\n",
    "[see here](https://www.digital-detective.net/understanding-big-and-little-endian-byte-order/)\n"
   ]
  },
  {
   "cell_type": "code",
   "execution_count": 52,
   "metadata": {},
   "outputs": [
    {
     "name": "stdout",
     "output_type": "stream",
     "text": [
      "49\n",
      "291\n",
      "8961\n"
     ]
    }
   ],
   "source": [
    "small_byte_number = b\"\\x31\"\n",
    "\n",
    "# 0x31 == (3*16^1) + (1*16^0) == 49\n",
    "print(int.from_bytes(small_byte_number, \"big\"))\n",
    "\n",
    "bigger_byte_number = b\"\\x01\\x23\"\n",
    "\n",
    "# 0x0123 = (0*16^3)+(1*16^2)+(2*16^1)+(3*16^0) in big endian\n",
    "print(int.from_bytes(bigger_byte_number, \"big\"))\n",
    "\n",
    "# 0x0123 = (0*16^1)+(1*16^0)+(2*16^3)+(3*16^2) in big endian\n",
    "print(int.from_bytes(bigger_byte_number, \"little\"))\n"
   ]
  },
  {
   "cell_type": "markdown",
   "metadata": {},
   "source": [
    "`to_bytes` works in a similar manner to `from_bytes`.\n",
    "\n",
    "You specify the int that you want to convert, the number of bytes you want to represent it, and its endianness."
   ]
  },
  {
   "cell_type": "code",
   "execution_count": 49,
   "metadata": {},
   "outputs": [
    {
     "name": "stdout",
     "output_type": "stream",
     "text": [
      "b'\\x00\\x00\\x00\\x00\\x04\\x00'\n"
     ]
    }
   ],
   "source": [
    "# Representing 1024 using 6 bytes\n",
    "val = int.to_bytes(1024, 6, \"big\")\n",
    "print(val)\n"
   ]
  },
  {
   "cell_type": "markdown",
   "metadata": {},
   "source": [
    "## Quick note - data representation.\n",
    "\n",
    "We covered above that certain values translate to ACII characters. The hex value `0x32` which is equal to `50` in decimal (`3*16^1 + 2*16^0`) translates to the ASCII character `2`. \n",
    "\n",
    "Below you'll see the int `50` converted to `b\"\\x002\"`, which is strange, since the hex value that is equivalent to the decimal value `50` is `0x32`. (Related - `0xNN` and `\\xNN` are used interchangeably here for bytes in hex)\n",
    "\n",
    "This is just shorthand. If you see two numbers preceded by `\\x`, then it is a hex literal. If you see a number or letter that doesn't belong to a hex pair `\\xNN`, then it is the ASCII representation of the byte. Don't let this confuse you. We can see below that they're the same thing."
   ]
  },
  {
   "cell_type": "code",
   "execution_count": 48,
   "metadata": {},
   "outputs": [
    {
     "name": "stdout",
     "output_type": "stream",
     "text": [
      "b'\\x002'\n",
      "50\n",
      "True\n"
     ]
    }
   ],
   "source": [
    "v = int.to_bytes(50, 2, \"big\")\n",
    "print(v)\n",
    "\n",
    "z = int.from_bytes(b\"\\x00\\x32\", \"big\")\n",
    "print(z)\n",
    "\n",
    "print(b\"\\x002\" == b\"\\x00\\x32\")"
   ]
  },
  {
   "cell_type": "markdown",
   "metadata": {},
   "source": [
    "## Using struct.unpack()\n",
    "\n",
    "The function `struct.unpack()` is also a great way to work with bytes. It allows you to specify the type of data that you want to create from the bytes. For this to make sense, you need to know what the letters are shorthand for.\n",
    "\n",
    "`H` is an unsigned short (an unsigned integer that is 2-bytes long)\n",
    "\n",
    "`h` is a signed short (a signed integer that is 2-bytes long)\n",
    "\n",
    "`c` is a char (a 1-byte ASCII character)\n",
    "\n",
    "etc.\n",
    "\n",
    "See [this table](https://docs.python.org/3/library/struct.html#format-characters) in the documentation for all of the different types:\n",
    "\n",
    "You also need to pick a symbol to represent endianness. The greater `>` symbol for big endian and the `<` for little endian.\n",
    "\n",
    "The format string, or first argument you pass, will first include the endianness symbol, followed by the number of each specific type of thing that you want. See the examples below."
   ]
  },
  {
   "cell_type": "code",
   "execution_count": 53,
   "metadata": {},
   "outputs": [
    {
     "name": "stdout",
     "output_type": "stream",
     "text": [
      "(1, 2)\n"
     ]
    }
   ],
   "source": [
    "import struct\n",
    "\n",
    "testBytes = b'\\x00\\x01\\x00\\x02'\n",
    "# Unpack the bytes into two unsigned shorts, interpreting the bytes in \n",
    "    # big-endian order\n",
    "two_shorts = struct.unpack('>HH', testBytes)\n",
    "print(two_shorts)"
   ]
  },
  {
   "cell_type": "code",
   "execution_count": 59,
   "metadata": {},
   "outputs": [
    {
     "name": "stdout",
     "output_type": "stream",
     "text": [
      "(b'D', 50)\n"
     ]
    }
   ],
   "source": [
    "testBytes = b'\\x44\\x00\\x32'\n",
    "short_and_char = struct.unpack('>cH', testBytes)\n",
    "print(short_and_char)"
   ]
  },
  {
   "cell_type": "markdown",
   "metadata": {},
   "source": [
    "## Fun with dense representations\n",
    "\n",
    "Imagine we have a situation where space is at a premium and we have information that we want to store. In this example we'll be storing people's 3-letter initials, an age, and a date of birth.\n",
    "\n",
    "Normally we would require at least \n",
    "* 3-bytes for the initial (one for each character)\n",
    "* 8 bytes for the int age\n",
    "* 16 bytes for the date of birth (or 4 bytes for a string MMDD)\n",
    "\n",
    "This doesn't actually play out in practice in Python (I'm pretty sure because objects have additional overhead), but it's directionally correct.\n",
    "\n",
    "Using what we know about bytes, we can store it much more densely.\n",
    "\n",
    "We still need 3-bytes for the initials, but a single unsigned byte can go up to 255, so we only need one for age, one for day, and one for month"
   ]
  },
  {
   "cell_type": "code",
   "execution_count": 107,
   "metadata": {},
   "outputs": [],
   "source": [
    "class User:\n",
    "    def __init__(self, initials, age, birthday):\n",
    "        self.initials = initials\n",
    "        self.age = age\n",
    "        self.birthday = birthday\n",
    "    \n",
    "    def __repr__(self):\n",
    "        return f\"initials: {self.initials}, age: {self.age}, birthday:{self.birthday[1]}/{self.birthday[0]}\"\n",
    "\n",
    "\n",
    "def create_dense_representation(initials:str, age:int, DOB:str) -> bytes:\n",
    "    initials_bytes = bytes(initials.encode(\"ascii\"))\n",
    "    age_byte = age.to_bytes(1, \"big\")\n",
    "    day_byte = int(DOB[:2]).to_bytes(1, \"big\")\n",
    "    month_byte = int(DOB[2:4]).to_bytes(1, \"big\")\n",
    "\n",
    "    return initials_bytes + age_byte + day_byte + month_byte \n",
    "\n",
    "\n",
    "def unpack_dense_representation(dense_rep:bytes):\n",
    "    r = struct.unpack('>cccBBB', dense_rep)\n",
    "    user = User(\n",
    "        initials=(r[0] + r[1] + r[2]).decode(\"ascii\"),\n",
    "        age=r[3],\n",
    "        birthday=(r[4], r[5])\n",
    "    )\n",
    "    \n",
    "    return user"
   ]
  },
  {
   "cell_type": "code",
   "execution_count": 110,
   "metadata": {},
   "outputs": [
    {
     "name": "stdout",
     "output_type": "stream",
     "text": [
      "dense representation: 39\n",
      "initials: 52\n",
      "age: 28\n",
      "age: 53\n"
     ]
    }
   ],
   "source": [
    "from sys import getsizeof\n",
    "d = create_dense_representation(\"PTR\", 30, \"0602\")\n",
    "print(f\"dense representation: {getsizeof(d)}\")\n",
    "print(f'initials: {getsizeof(\"PTR\")}')\n",
    "print(f'age: {getsizeof(30)}')\n",
    "print(f'age: {getsizeof(\"0602\")}')"
   ]
  },
  {
   "cell_type": "code",
   "execution_count": null,
   "metadata": {},
   "outputs": [],
   "source": []
  }
 ],
 "metadata": {
  "interpreter": {
   "hash": "aee8b7b246df8f9039afb4144a1f6fd8d2ca17a180786b69acc140d282b71a49"
  },
  "kernelspec": {
   "display_name": "Python 3.9.9 64-bit",
   "language": "python",
   "name": "python3"
  },
  "language_info": {
   "codemirror_mode": {
    "name": "ipython",
    "version": 3
   },
   "file_extension": ".py",
   "mimetype": "text/x-python",
   "name": "python",
   "nbconvert_exporter": "python",
   "pygments_lexer": "ipython3",
   "version": "3.9.9"
  },
  "orig_nbformat": 4
 },
 "nbformat": 4,
 "nbformat_minor": 2
}
